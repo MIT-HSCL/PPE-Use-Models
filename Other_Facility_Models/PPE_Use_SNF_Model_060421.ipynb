{
 "cells": [
  {
   "cell_type": "code",
   "execution_count": 2,
   "metadata": {},
   "outputs": [],
   "source": [
    "#load libraries\n",
    "import pandas as pd\n",
    "import matplotlib.pyplot as plt\n",
    "import numpy as np"
   ]
  },
  {
   "cell_type": "code",
   "execution_count": 2,
   "metadata": {},
   "outputs": [],
   "source": [
    "#import variables with stored values and store in dictionary\n",
    "stored_values_df = pd.read_excel(\"stored_values.xlsx\")\n",
    "stored_values_dict_df = stored_values_df[[\"Variable_name\",\"Value\"]]\n",
    "stored_values_dict_df = stored_values_dict_df.set_index(['Variable_name'])\n",
    "stored_values_dict = stored_values_dict_df.to_dict()\n",
    "stored_values_dict = stored_values_dict['Value']\n",
    "stored = stored_values_dict"
   ]
  },
  {
   "cell_type": "code",
   "execution_count": 3,
   "metadata": {},
   "outputs": [],
   "source": [
    "#import variables with static values and store in dictionary\n",
    "static_values_df = pd.read_excel(\"static_values.xlsx\")\n",
    "static_values_dict_df = static_values_df[[\"Variable_name\",\"Value\"]]\n",
    "static_values_dict_df = static_values_dict_df.set_index(['Variable_name'])\n",
    "static_values_dict = static_values_dict_df.to_dict()\n",
    "static_values_dict = static_values_dict['Value']\n",
    "static = static_values_dict"
   ]
  },
  {
   "cell_type": "code",
   "execution_count": 4,
   "metadata": {},
   "outputs": [],
   "source": [
    "#import daily inputs\n",
    "daily_inputs = pd.read_excel('daily_inputs.xlsx')"
   ]
  },
  {
   "cell_type": "code",
   "execution_count": 5,
   "metadata": {},
   "outputs": [],
   "source": [
    "#create empty output df\n",
    "column_names = ['Date','New_COVID_Cases','Total_COVID_in_Hospital','COVID_cases_in_SNF', 'PUI_in_SNF','Staff_working_with_COVID_or_PUI_patients', 'Cohorting Coefficient', 'Hospitals_full', 'gloves_used','gowns_used', 'N95s_used','eye_pro_used','surg_proc_masks_used']\n",
    "outputs = pd.DataFrame(columns = column_names)"
   ]
  },
  {
   "cell_type": "code",
   "execution_count": 6,
   "metadata": {},
   "outputs": [],
   "source": [
    "#determine PPE use for each day in daily inputs and updates outputs df\n",
    "COVID_sent_to_hospital = 0\n",
    "day = 0\n",
    "Hospitals_full = False\n",
    "Starting_COVID = stored['COVID_in_SNF']\n",
    "Starting_PUI = stored['PUI_in_SNF']\n",
    "Hospital_full_count = 0\n",
    "for i in range(len(daily_inputs)):\n",
    "    \n",
    "    #updates Hospital full variable\n",
    "    if daily_inputs.at[day,'New_COVID_Cases'] > static['COVID_cases_hospitals_full']:\n",
    "        Hospitals_full = True\n",
    "    else:\n",
    "        Hospitals_full = False\n",
    "    \n",
    "    #updates COVID and PUI in SNF\n",
    "    \n",
    "    if Hospitals_full == False:\n",
    "        if day > static['LOS_COVID_SNF']:\n",
    "            stored['COVID_in_SNF'] = stored['COVID_in_SNF'] - (daily_inputs.at[day - int(static['LOS_COVID_SNF']),'New_COVID_in_SNF'] - daily_inputs.at[day - int(static['LOS_COVID_SNF']), 'SNF_COVID_Hospitalized']) + daily_inputs.at[day,'New_COVID_in_SNF'] - daily_inputs.at[day, 'SNF_COVID_Hospitalized']\n",
    "        elif day == 0:\n",
    "            stored['COVID_in_SNF'] = stored['COVID_in_SNF']\n",
    "        else:\n",
    "            stored['COVID_in_SNF'] = stored['COVID_in_SNF'] + daily_inputs.at[day,'New_COVID_in_SNF'] - daily_inputs.at[day, 'SNF_COVID_Hospitalized'] - (daily_inputs.at[0,'New_COVID_in_SNF'] - daily_inputs.at[0,'Average_Hospitalized_in_first_10_days'])\n",
    "        Hospial_full_count = 0\n",
    "        \n",
    "    if Hospitals_full == True:\n",
    "        if day > static['LOS_COVID_SNF']:\n",
    "            if Hospital_full_count < 10:\n",
    "                stored['COVID_in_SNF'] = stored['COVID_in_SNF'] - (daily_inputs.at[day - int(static['LOS_COVID_SNF']),'New_COVID_in_SNF'] - daily_inputs.at[day - int(static['LOS_COVID_SNF']), 'SNF_COVID_Hospitalized']) + daily_inputs.at[day,'New_COVID_in_SNF']\n",
    "            else:\n",
    "                stored['COVID_in_SNF'] = stored['COVID_in_SNF'] - daily_inputs.at[day - int(static['LOS_COVID_SNF']),'New_COVID_in_SNF'] + daily_inputs.at[day,'New_COVID_in_SNF']\n",
    "        elif day == 0:\n",
    "            stored['COVID_in_SNF'] = stored['COVID_in_SNF']\n",
    "        else:\n",
    "            stored['COVID_in_SNF'] = stored['COVID_in_SNF'] + daily_inputs.at[day,'New_COVID_in_SNF']  - (daily_inputs.at[0,'New_COVID_in_SNF'] - daily_inputs.at[0,'Average_Hospitalized_in_first_10_days'])\n",
    "    \n",
    "        Hospital_full_count += 1\n",
    "        \n",
    "    if stored['COVID_in_SNF'] > static['Total_MA_SNF_population']:\n",
    "        stored['COVID_in_SNF'] = static['Total_MA_SNF_population']\n",
    "    \n",
    "        \n",
    "    #updates the stored value of PUI\n",
    "    stored['PUI_in_SNF'] = stored['PUI_in_SNF'] - (stored['PUI_in_SNF']/static['COVID_test_turnaround_time']) + daily_inputs.at[day,'New_PUI_in_SNF']\n",
    "    \n",
    "    if stored['COVID_in_SNF'] + stored['PUI_in_SNF'] > static['Total_MA_SNF_population']:\n",
    "        stored['PUI_in_SNF'] = static['Total_MA_SNF_population'] - stored['COVID_in_SNF']\n",
    "    \n",
    "    \n",
    "    #updates cohorting coefficient and staff per patient\n",
    "    \n",
    "    Cohorting = (stored['PUI_in_SNF'] + stored['COVID_in_SNF'])/ static['Total_MA_SNF_population']\n",
    "    HCW_RN_per_resident = static['HCW_RN_per_resident'] + ((1-Cohorting)*(1-static['HCW_RN_per_resident']))\n",
    "    HCW_CNA_per_resident = static['HCW_RN_per_resident'] + ((1-Cohorting)*(1-static['HCW_RN_per_resident']))\n",
    "    Non_clinical_staff_per_resident = static['Non_clinical_staff_per_resident'] + ((1-Cohorting)*(1-static['Non_clinical_staff_per_resident']))\n",
    "    \n",
    "    #updates staff working with COVID and PUI\n",
    "    \n",
    "    COVID_PUI = stored['COVID_in_SNF'] + stored['PUI_in_SNF']\n",
    "    RNs_COVID_PUI = round((HCW_RN_per_resident * COVID_PUI) * static['HCW_shifts_per_day'] )\n",
    "    CNA_COVID_PUI = round((HCW_CNA_per_resident * COVID_PUI) * static['HCW_shifts_per_day'] )\n",
    "    HCWs_COVID_PUI = RNs_COVID_PUI + CNA_COVID_PUI\n",
    "    Non_clinical_COVID_PUI = round((Non_clinical_staff_per_resident * COVID_PUI) * static['Non_clinical_shifts_per_day'] )\n",
    "\n",
    "    Staff_working_with_COVID_PUI = HCWs_COVID_PUI + Non_clinical_COVID_PUI\n",
    "    \n",
    "    if Staff_working_with_COVID_PUI > static['Total_MA_SNF_employee_patient_contact_population']:\n",
    "        Staff_working_with_COVID_PUI = static['Total_MA_SNF_employee_patient_contact_population']\n",
    "    \n",
    "    #Calculates PPE usage\n",
    "    \n",
    "    N95s = round((Staff_working_with_COVID_PUI) / static['Shifts_per_N95'])\n",
    "    Eye_protection = round(Staff_working_with_COVID_PUI / static['Shifts_per_eyepro'])\n",
    "    Surgical_Procedural_mask = round((static['Total_MA_SNF_employee_population'] / static['Shifts_per_surgical_procedural_mask']) + static['Visitors_per_day'] + static['Total_MA_SNF_population'])\n",
    "    Gowns = COVID_PUI * static['HCW_daily_visits']\n",
    "    Gloves = (static['Total_MA_SNF_population']) * static['HCW_daily_visits'] * 2\n",
    "    \n",
    "    #updates the outputs\n",
    "    outputs = outputs.append({'New_COVID_Cases':daily_inputs.at[day, 'New_COVID_Cases'],'Total_COVID_in_Hospital':daily_inputs.at[day, 'COVID_Hospitalized'],'Cohorting Coefficient': Cohorting,'Date': daily_inputs.at[day, 'Date'],'COVID_cases_in_SNF': stored['COVID_in_SNF'], 'PUI_in_SNF': stored['PUI_in_SNF'], 'Staff_working_with_COVID_or_PUI_patients': Staff_working_with_COVID_PUI, 'Hospitals_full': Hospitals_full, 'gloves_used': Gloves,'gowns_used': Gowns, 'N95s_used': N95s,'eye_pro_used': Eye_protection,'surg_proc_masks_used': Surgical_Procedural_mask}, ignore_index = True)\n",
    "    day += 1                                                                                      "
   ]
  },
  {
   "cell_type": "code",
   "execution_count": 17,
   "metadata": {},
   "outputs": [],
   "source": [
    "#export outputs to excel\n",
    "outputs.to_excel('PPE_outputs.xlsx')"
   ]
  }
 ],
 "metadata": {
  "kernelspec": {
   "display_name": "Python 3",
   "language": "python",
   "name": "python3"
  },
  "language_info": {
   "codemirror_mode": {
    "name": "ipython",
    "version": 3
   },
   "file_extension": ".py",
   "mimetype": "text/x-python",
   "name": "python",
   "nbconvert_exporter": "python",
   "pygments_lexer": "ipython3",
   "version": "3.7.7"
  }
 },
 "nbformat": 4,
 "nbformat_minor": 4
}
