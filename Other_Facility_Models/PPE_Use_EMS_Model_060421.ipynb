{
 "cells": [
  {
   "cell_type": "code",
   "execution_count": 27,
   "metadata": {},
   "outputs": [],
   "source": [
    "#load libraries\n",
    "import pandas as pd\n",
    "import matplotlib.pyplot as plt\n",
    "import numpy as np"
   ]
  },
  {
   "cell_type": "code",
   "execution_count": 28,
   "metadata": {},
   "outputs": [],
   "source": [
    "#Import variables with static values and store in dictionary\n",
    "static_values_df = pd.read_excel(\"static_values.xlsx\")\n",
    "static_values_dict_df = static_values_df[[\"Variable_name\",\"Value\"]]\n",
    "static_values_dict_df = static_values_dict_df.set_index(['Variable_name'])\n",
    "static_values_dict = static_values_dict_df.to_dict()\n",
    "static_values_dict = static_values_dict['Value']\n",
    "static = static_values_dict"
   ]
  },
  {
   "cell_type": "code",
   "execution_count": 29,
   "metadata": {},
   "outputs": [],
   "source": [
    "#import daily inputs\n",
    "daily_inputs = pd.read_excel('daily_inputs.xlsx')"
   ]
  },
  {
   "cell_type": "code",
   "execution_count": 30,
   "metadata": {},
   "outputs": [],
   "source": [
    "#create empty output df\n",
    "column_names = ['Date','New_COVID_Cases','Runs_with_PPE', 'EMS_max_precaution', 'EMS_moderate_precaution', 'EMS_staff_working','gloves_used','gowns_used', 'N95s_used','eye_pro_used','surg_proc_masks_used']\n",
    "outputs = pd.DataFrame(columns = column_names)"
   ]
  },
  {
   "cell_type": "code",
   "execution_count": 31,
   "metadata": {},
   "outputs": [],
   "source": [
    "#determine PPE use for each day in daily inputs and updates outputs df\n",
    "\n",
    "day = 0\n",
    "Max_Precaution = False\n",
    "Moderate_Precaution = False\n",
    "\n",
    "for i in range(len(daily_inputs)):\n",
    "    \n",
    "    #updates EMS precaution level\n",
    "    if daily_inputs.at[day,'New_COVID_Cases'] >= static['COVID_threshold_for_full_PPE_use']:\n",
    "        Full_Precaution = True\n",
    "        High_Precaution = False\n",
    "        Moderate_Precaution = False\n",
    "    elif daily_inputs.at[day,'New_COVID_Cases'] >= static['COVID_threshold_for_high_PPE_use']:\n",
    "        Full_Precaution = False\n",
    "        High_Precaution = True\n",
    "        Moderate_Precaution = False\n",
    "    else:\n",
    "        Full_Precaution = False\n",
    "        High_Precaution = False\n",
    "        Moderate_Precaution = True\n",
    "        \n",
    "    #calculates EMS Staff on runs\n",
    "    EMS_staff = round((static['Daily_runs'] / static['Runs_per_EMS_shift']) * static['Staff_per_EMS_run'] )\n",
    "    \n",
    "    \n",
    "    #calculates EMS runs with full COVID PPE\n",
    "    if Full_Precaution == True:\n",
    "        Runs_with_PPE = static['Daily_runs']\n",
    "    elif High_Precaution == True:\n",
    "        Runs_with_PPE = static['Daily_runs'] * (((.6/9000)* daily_inputs.at[day,'New_COVID_Cases']) + .4)\n",
    "    elif Moderate_Precaution == True:\n",
    "        Runs_with_PPE = static['Daily_runs'] * (.0004 * daily_inputs.at[day,'New_COVID_Cases'])\n",
    "    \n",
    "    #calculates PPE usage\n",
    "    \n",
    "    N95s = round((EMS_staff) / static['Shifts_per_N95'])\n",
    "    Eye_protection = round(EMS_staff/ static['Shifts_per_eyepro'])\n",
    "    Surgical_Procedural_mask = ((1 - (Runs_with_PPE / static['Daily_runs'])) * static['Daily_runs'] * static['Staff_per_EMS_run']) + static['Daily_runs']  \n",
    "    Gowns = Runs_with_PPE * static['Staff_per_EMS_run']\n",
    "    Gloves = static['Daily_runs'] * static['Staff_per_EMS_run']*2\n",
    "    \n",
    "    #updates the outputs\n",
    "    outputs = outputs.append({'Runs_with_PPE':Runs_with_PPE,'Date': daily_inputs.at[day, 'Date'],'New_COVID_Cases': daily_inputs.at[day, 'New_COVID_Cases'], 'EMS_max_precaution': Max_Precaution, 'EMS_moderate_precaution': Moderate_Precaution, 'EMS_staff_working': EMS_staff, 'gloves_used': Gloves,'gowns_used': Gowns, 'N95s_used': N95s,'eye_pro_used': Eye_protection,'surg_proc_masks_used': Surgical_Procedural_mask}, ignore_index = True)\n",
    "    \n",
    "    day += 1                                                                                      "
   ]
  },
  {
   "cell_type": "code",
   "execution_count": 14,
   "metadata": {},
   "outputs": [],
   "source": [
    "#export outputs to excel\n",
    "outputs.to_excel('PPE_outputs.xlsx')"
   ]
  }
 ],
 "metadata": {
  "kernelspec": {
   "display_name": "Python 3",
   "language": "python",
   "name": "python3"
  },
  "language_info": {
   "codemirror_mode": {
    "name": "ipython",
    "version": 3
   },
   "file_extension": ".py",
   "mimetype": "text/x-python",
   "name": "python",
   "nbconvert_exporter": "python",
   "pygments_lexer": "ipython3",
   "version": "3.7.7"
  }
 },
 "nbformat": 4,
 "nbformat_minor": 4
}
